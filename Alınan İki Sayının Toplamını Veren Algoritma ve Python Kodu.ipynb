{
 "cells": [
  {
   "cell_type": "markdown",
   "metadata": {},
   "source": [
    "# Algoritma\n",
    "## Alınan İki Sayının Toplamını Veren Algoritma ve Python Kodu\n",
    "\n",
    "\n"
   ]
  },
  {
   "cell_type": "markdown",
   "metadata": {},
   "source": [
    "A0. Başla\n",
    "\n",
    "A1. Birinci sayıyı al\n",
    "\n",
    "A2. İkinci sayıyı al\n",
    "\n",
    "A3. Aldığın iki sayıyı topla ve toplam'a eşitle\n",
    "\n",
    "A4. Toplam'ı Göster\n",
    "\n",
    "A5. Bitir"
   ]
  },
  {
   "cell_type": "code",
   "execution_count": 2,
   "metadata": {},
   "outputs": [
    {
     "name": "stdout",
     "output_type": "stream",
     "text": [
      "Birinci sayıyı giriniz: 5\n",
      "İkinci sayıyı girini: 3\n",
      "8\n"
     ]
    }
   ],
   "source": [
    "a = int(input(\"Birinci sayıyı giriniz: \")) #int tipinde alınan değer a değişkenine atandı\n",
    "b = int(input(\"İkinci sayıyı girini: \")) #int tipinde alınan değer b değişkenine atandı\n",
    "\n",
    "toplam = a + b\n",
    "\n",
    "print(\"Toplam: \",toplam)"
   ]
  }
 ],
 "metadata": {
  "kernelspec": {
   "display_name": "Python 3",
   "language": "python",
   "name": "python3"
  },
  "language_info": {
   "codemirror_mode": {
    "name": "ipython",
    "version": 3
   },
   "file_extension": ".py",
   "mimetype": "text/x-python",
   "name": "python",
   "nbconvert_exporter": "python",
   "pygments_lexer": "ipython3",
   "version": "3.7.6"
  }
 },
 "nbformat": 4,
 "nbformat_minor": 4
}
